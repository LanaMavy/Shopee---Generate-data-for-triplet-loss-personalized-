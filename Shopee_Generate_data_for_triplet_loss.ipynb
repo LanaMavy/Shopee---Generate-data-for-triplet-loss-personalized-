{
  "cells": [
    {
      "metadata": {
        "id": "b2y4_5nVGIVc"
      },
      "cell_type": "markdown",
      "source": [
        "## Generate triplets training data\n",
        "\n",
        "_[Shopee - Price Match Guarantee](https://www.kaggle.com/c/shopee-product-matching)_\n",
        "\n",
        "This notebook shows you how to generate triplets of training data by leveraging the `group_label` column for positive sampling, and also group-level negative sampling. The results of this notebook are CSV files with an anchor, positive, and negative column, where each value corresponds to either the product ID, image name, or product title."
      ]
    },
    {
      "metadata": {
        "_uuid": "8f2839f25d086af736a60e9eeb907d3b93b6e0e5",
        "_cell_guid": "b1076dfc-b9ad-4769-8c92-a6c4dae69d19",
        "trusted": true,
        "id": "UpC1rxPJGIVg"
      },
      "cell_type": "code",
      "source": [
        "import random\n",
        "\n",
        "import pandas as pd\n",
        "from tqdm.auto import tqdm\n",
        "\n",
        "tqdm.pandas()"
      ],
      "execution_count": null,
      "outputs": []
    },
    {
      "metadata": {
        "id": "HOPfpeLtGIVi"
      },
      "cell_type": "markdown",
      "source": [
        "This helper function will let you generate an anchor, a positive sample from the same label group, and a negative sample from a different label group. The external function wraps around a certain dataframe, and the inner function should be applied to a row of that `df`."
      ]
    },
    {
      "metadata": {
        "trusted": true,
        "id": "SEUcLgwxGIVj"
      },
      "cell_type": "code",
      "source": [
        "def generate_triplets(df):\n",
        "    # Source: https://www.kaggle.com/xhlulu/shopee-generate-data-for-triplet-loss\n",
        "    random.seed(42)\n",
        "    group2df = dict(list(df.groupby('label_group')))\n",
        "\n",
        "    def aux(row):\n",
        "        anchor = row.posting_id\n",
        "\n",
        "        # We sample a positive data point from the same group, but\n",
        "        # exclude the anchor itself\n",
        "        ids = group2df[row.label_group].posting_id.tolist()\n",
        "        ids.remove(row.posting_id)\n",
        "        positive = random.choice(ids)\n",
        "\n",
        "        # Now, this will sample a group from all possible groups, then sample\n",
        "        # a product from that group\n",
        "        groups = list(group2df.keys())\n",
        "        groups.remove(row.label_group)\n",
        "        neg_group = random.choice(groups)\n",
        "        negative = random.choice(group2df[neg_group].posting_id.tolist())\n",
        "\n",
        "        return anchor, positive, negative\n",
        "\n",
        "    return aux"
      ],
      "execution_count": null,
      "outputs": []
    },
    {
      "metadata": {
        "id": "eKa25rxGGIVk"
      },
      "cell_type": "markdown",
      "source": [
        "Load the training data and create some useful dictionaries for later:"
      ]
    },
    {
      "metadata": {
        "trusted": true,
        "id": "rdmCqIm-GIVl"
      },
      "cell_type": "code",
      "source": [
        "train = pd.read_csv('../input/shopee-product-matching/train.csv')\n",
        "\n",
        "# Useful dictionaries; use below to convert if needed\n",
        "id_to_img = train.set_index('posting_id').image.to_dict()\n",
        "id_to_title = train.set_index('posting_id').title.to_dict()"
      ],
      "execution_count": null,
      "outputs": []
    },
    {
      "metadata": {
        "id": "No12HbVEGIVm"
      },
      "cell_type": "markdown",
      "source": [
        "Here, we use the `generate_triplets` helper function defined above and create a new dataframe from it:"
      ]
    },
    {
      "metadata": {
        "trusted": true,
        "id": "-sx8FN69GIVm"
      },
      "cell_type": "code",
      "source": [
        "train_triplets = train.progress_apply(generate_triplets(train), axis=1).tolist()\n",
        "train_triplets_df = pd.DataFrame(train_triplets, columns=['anchor', 'positive', 'negative'])\n",
        "train_triplets_df.head()"
      ],
      "execution_count": null,
      "outputs": []
    },
    {
      "metadata": {
        "id": "gtLgS1EOGIVn"
      },
      "cell_type": "markdown",
      "source": [
        "From the `train_triplets_df` you can create a triplet dataframe of titles:"
      ]
    },
    {
      "metadata": {
        "trusted": true,
        "id": "-ZcalwKwGIVn"
      },
      "cell_type": "code",
      "source": [
        "train_triplets_titles = train_triplets_df.applymap(lambda x: id_to_title[x])\n",
        "train_triplets_titles.head()"
      ],
      "execution_count": null,
      "outputs": []
    },
    {
      "metadata": {
        "id": "adL1zm2-GIVo"
      },
      "cell_type": "markdown",
      "source": [
        "The same works for images:"
      ]
    },
    {
      "metadata": {
        "trusted": true,
        "id": "XHfWg1TAGIVo"
      },
      "cell_type": "code",
      "source": [
        "train_triplets_imgs = train_triplets_df.applymap(lambda x: id_to_img[x])\n",
        "train_triplets_imgs.head()"
      ],
      "execution_count": null,
      "outputs": []
    },
    {
      "metadata": {
        "id": "FPw_NWzUGIVo"
      },
      "cell_type": "markdown",
      "source": [
        "Let's save everything so you can easily use the output of this notebook. Alternatively, you can copy/paste the helper function as well and use it directly with the code above!"
      ]
    },
    {
      "metadata": {
        "trusted": true,
        "id": "z33oN63mGIVo"
      },
      "cell_type": "code",
      "source": [
        "train_triplets_imgs.to_csv('train_triplets_imgs.csv', index=False)\n",
        "train_triplets_titles.to_csv('train_triplets_titles.csv', index=False)\n",
        "train_triplets_df.to_csv('train_triplets_ids.csv', index=False)"
      ],
      "execution_count": null,
      "outputs": []
    }
  ],
  "metadata": {
    "kernelspec": {
      "language": "python",
      "display_name": "Python 3",
      "name": "python3"
    },
    "language_info": {
      "pygments_lexer": "ipython3",
      "nbconvert_exporter": "python",
      "version": "3.6.4",
      "file_extension": ".py",
      "codemirror_mode": {
        "name": "ipython",
        "version": 3
      },
      "name": "python",
      "mimetype": "text/x-python"
    },
    "colab": {
      "name": "Shopee - Generate data for triplet loss",
      "provenance": []
    }
  },
  "nbformat": 4,
  "nbformat_minor": 0
}